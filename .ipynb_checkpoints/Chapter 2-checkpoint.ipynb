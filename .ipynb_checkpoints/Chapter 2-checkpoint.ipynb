{
 "metadata": {
  "name": ""
 },
 "nbformat": 3,
 "nbformat_minor": 0,
 "worksheets": [
  {
   "cells": [
    {
     "cell_type": "markdown",
     "metadata": {},
     "source": [
      "# K-Nearest Neighbors Classification algorithm and Some MatPlotLib"
     ]
    },
    {
     "cell_type": "markdown",
     "metadata": {},
     "source": [
      "k-Nearest Neighbors has some Pros and cons:\n",
      "\n",
      "__Pros__ : High Accuracy, insensitive to outliers, no assumptions about data.\n",
      "\n",
      "__Cons__ : Computationally expensive, requires a lot of memory.\n",
      "\n",
      "It works with *Numeric values* and *Nominal values*."
     ]
    },
    {
     "cell_type": "markdown",
     "metadata": {},
     "source": [
      "## Lets start coding "
     ]
    },
    {
     "cell_type": "markdown",
     "metadata": {},
     "source": [
      "We now create a file called kNN.py. All the code required for this chapter will go into that file. We will start with creating a data set for running K-nearest neighbors algorithm."
     ]
    },
    {
     "cell_type": "code",
     "collapsed": false,
     "input": [
      "from numpy import *\n",
      "import operator\n",
      "\n",
      "\n",
      "def createDataSet():\n",
      "    group = array([[1.0,1.1],[1.0,1.0],[0.0,0.0],[0.0,1.1]])\n",
      "    labels = ['A','A','B','B']\n",
      "    return group, labels\n",
      "\n",
      "\n",
      "import kNN\n",
      "\n",
      "groups,labels = kNN.createDataSet()\n",
      "print groups"
     ],
     "language": "python",
     "metadata": {},
     "outputs": []
    }
   ],
   "metadata": {}
  }
 ]
}