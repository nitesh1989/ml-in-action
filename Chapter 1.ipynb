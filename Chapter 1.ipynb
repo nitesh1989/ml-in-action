{
 "metadata": {
  "name": ""
 },
 "nbformat": 3,
 "nbformat_minor": 0,
 "worksheets": [
  {
   "cells": [
    {
     "cell_type": "heading",
     "level": 1,
     "metadata": {},
     "source": [
      "Introduction to Numpy"
     ]
    },
    {
     "cell_type": "raw",
     "metadata": {},
     "source": [
      "Import NumPy library"
     ]
    },
    {
     "cell_type": "code",
     "collapsed": false,
     "input": [
      "from numpy import *"
     ],
     "language": "python",
     "metadata": {},
     "outputs": [],
     "prompt_number": 1
    },
    {
     "cell_type": "raw",
     "metadata": {},
     "source": [
      "Generate a random array of size 4*4 to test if the library is loaded into your python environment."
     ]
    },
    {
     "cell_type": "code",
     "collapsed": false,
     "input": [
      "random.rand(4,4)"
     ],
     "language": "python",
     "metadata": {},
     "outputs": [
      {
       "metadata": {},
       "output_type": "pyout",
       "prompt_number": 2,
       "text": [
        "array([[ 0.21874393,  0.1096129 ,  0.42137833,  0.57837932],\n",
        "       [ 0.42137831,  0.37763221,  0.42062112,  0.71335146],\n",
        "       [ 0.88220796,  0.86914192,  0.29938377,  0.57326596],\n",
        "       [ 0.41665479,  0.71630311,  0.17709057,  0.14773815]])"
       ]
      }
     ],
     "prompt_number": 2
    },
    {
     "cell_type": "raw",
     "metadata": {},
     "source": [
      "Now that we know its working, try some manipulations."
     ]
    },
    {
     "cell_type": "code",
     "collapsed": false,
     "input": [
      "randMat = mat(random.rand(4,4))\n",
      "randMat"
     ],
     "language": "python",
     "metadata": {},
     "outputs": [
      {
       "metadata": {},
       "output_type": "pyout",
       "prompt_number": 4,
       "text": [
        "matrix([[ 0.45726043,  0.58621929,  0.55027511,  0.95847771],\n",
        "        [ 0.87933155,  0.18858351,  0.49693729,  0.02397626],\n",
        "        [ 0.16907381,  0.71449224,  0.18569801,  0.59933288],\n",
        "        [ 0.38159179,  0.5200906 ,  0.52067957,  0.04754949]])"
       ]
      }
     ],
     "prompt_number": 4
    },
    {
     "cell_type": "heading",
     "level": 5,
     "metadata": {},
     "source": [
      "NOTE: The variable names are in camelCase. This is following the rules of the python style guide which can be accessed here <https://google-styleguide.googlecode.com/svn/trunk/pyguide.html> or <http://legacy.python.org/dev/peps/pep-0008/> (PEP 8) "
     ]
    },
    {
     "cell_type": "code",
     "collapsed": false,
     "input": [
      "# Inverse of a matrix in Numpy\n",
      "\n",
      "invRandMat = randMat.I\n",
      "invRandMat"
     ],
     "language": "python",
     "metadata": {},
     "outputs": [
      {
       "metadata": {},
       "output_type": "pyout",
       "prompt_number": 9,
       "text": [
        "matrix([[-0.70956708,  1.94015998,  1.17789505, -1.52188323],\n",
        "        [-1.27063863,  0.00626169,  1.98181807,  0.63007942],\n",
        "        [ 1.68015063, -1.41759131, -2.82914353,  2.50686853],\n",
        "        [ 1.19437805, -0.11556231, -0.14979744, -1.09854936]])"
       ]
      }
     ],
     "prompt_number": 9
    },
    {
     "cell_type": "code",
     "collapsed": false,
     "input": [
      "# Matrix Multiplication in NumPy\n",
      "\n",
      "randMat * invRandMat"
     ],
     "language": "python",
     "metadata": {},
     "outputs": [
      {
       "metadata": {},
       "output_type": "pyout",
       "prompt_number": 14,
       "text": [
        "matrix([[  1.00000000e+00,   1.11022302e-16,  -8.32667268e-17,\n",
        "           0.00000000e+00],\n",
        "        [  5.20417043e-17,   1.00000000e+00,  -1.09287579e-16,\n",
        "           1.80411242e-16],\n",
        "        [  0.00000000e+00,   6.93889390e-17,   1.00000000e+00,\n",
        "           0.00000000e+00],\n",
        "        [ -1.17961196e-16,   3.29597460e-17,  -1.70870262e-16,\n",
        "           1.00000000e+00]])"
       ]
      }
     ],
     "prompt_number": 14
    },
    {
     "cell_type": "code",
     "collapsed": false,
     "input": [
      "# Identity Matrix in NumPy\n",
      "\n",
      "myEye = eye(4)\n",
      "myEye"
     ],
     "language": "python",
     "metadata": {},
     "outputs": [
      {
       "metadata": {},
       "output_type": "pyout",
       "prompt_number": 13,
       "text": [
        "array([[ 1.,  0.,  0.,  0.],\n",
        "       [ 0.,  1.,  0.,  0.],\n",
        "       [ 0.,  0.,  1.,  0.],\n",
        "       [ 0.,  0.,  0.,  1.]])"
       ]
      }
     ],
     "prompt_number": 13
    },
    {
     "cell_type": "markdown",
     "metadata": {},
     "source": [
      "# Some Basic Machine Learning Algorithms\n",
      "\n",
      "1. Classification\n",
      "2. Regression\n",
      "3. Clustering\n",
      "4. Density Estimation Algorithms\n",
      "\n",
      "If you\u2019re trying to predict or forecast a target value, then you need to look into supervised learning. If not, then unsupervised learning is the place you want to be.\n",
      "\n",
      "If you\u2019ve chosen supervised learning, what\u2019s your target value? Is it a discrete value like Yes/No, 1/2/3, A/B/C, or Red/Yellow/Black? If so, then you want to look into __classification__.\n",
      "\n",
      "If the target value can take on a number of values, say any value from 0.00 to 100.00, or -999 to 999, or +\udbff\udc00 to -\udbff\udc00, then you need to look into __regression__.\n",
      "\n",
      "If you\u2019re not trying to predict a target value, then you need to look into unsupervised learning. Are you trying to fit your data into some discrete groups? If so and that\u2019s all you need, you should look into __clustering__.\n",
      "\n",
      "Do you need to have some numerical estimate of how strong the fit is into each group? If you answer yes, then you probably should look into a __density estimation algorithm__."
     ]
    },
    {
     "cell_type": "raw",
     "metadata": {},
     "source": [
      "Now lets head to Chapter 2, and introduce some Machine Learning."
     ]
    }
   ],
   "metadata": {}
  }
 ]
}