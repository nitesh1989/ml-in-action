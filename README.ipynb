{
 "metadata": {
  "name": ""
 },
 "nbformat": 3,
 "nbformat_minor": 0,
 "worksheets": [
  {
   "cells": [
    {
     "cell_type": "markdown",
     "metadata": {},
     "source": [
      "# Nitesh Turaga\n",
      "# Machine Learning in Action -- Book\n",
      "\n",
      "This folder contains chapters worked out in order.It will be uploaded in github, for public access.  All code is in Python.\n",
      "\n",
      "Table of Contents: (In progress)\n",
      "\n",
      "1. Chapter 1\n",
      "\n",
      "2. Chapter 2 - Classifying with k-nearest neighbors\n"
     ]
    }
   ],
   "metadata": {}
  }
 ]
}